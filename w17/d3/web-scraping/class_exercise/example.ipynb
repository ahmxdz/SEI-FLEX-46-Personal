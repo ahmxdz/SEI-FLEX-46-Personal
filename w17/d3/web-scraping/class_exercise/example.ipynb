{
 "cells": [
  {
   "cell_type": "code",
   "execution_count": 1,
   "metadata": {},
   "outputs": [],
   "source": [
    "from bs4 import BeautifulSoup"
   ]
  },
  {
   "cell_type": "code",
   "execution_count": 2,
   "metadata": {},
   "outputs": [],
   "source": [
    "soup = BeautifulSoup(open(\"../sample.html\"), \"lxml\")"
   ]
  },
  {
   "cell_type": "code",
   "execution_count": 3,
   "metadata": {},
   "outputs": [
    {
     "data": {
      "text/plain": [
       "<!DOCTYPE html>\n",
       "<html>\n",
       "<head>\n",
       "<meta charset=\"utf-8\"/>\n",
       "<title>The title</title>\n",
       "<style media=\"screen\">\n",
       "    tbody tr {\n",
       "      color: red;\n",
       "    }\n",
       "  </style>\n",
       "</head>\n",
       "<body>\n",
       "<h1 class=\"foobar\" id=\"title\">This is an h1</h1>\n",
       "<div>\n",
       "<h1 class=\"foobar\">This is yet another heading.</h1>\n",
       "\n",
       "    Something inside the div\n",
       "  </div>\n",
       "<h3>Todo List</h3>\n",
       "<ol class=\"todo\">\n",
       "<li class=\"foobar\">Take out trash</li>\n",
       "<li>Pay billz</li>\n",
       "<li class=\"foobar\">Feed dog</li>\n",
       "</ol>\n",
       "<h3>Completed</h3>\n",
       "<ol class=\"done\">\n",
       "<li>Mow lawn</li>\n",
       "<li class=\"foobar\"><span>Take out compost</span></li>\n",
       "<li><span>Create scraping lecture</span></li>\n",
       "</ol>\n",
       "<p class=\"foobar\">Lorem ipsum dolor sit amet, consectetur adipisicing elit, sed do eiusmod tempor incididunt ut labore\n",
       "    et dolore magna aliqua. Ut enim ad minim veniam, quis nostrud exercitation ullamco laboris nisi ut aliquip ex ea\n",
       "    commodo consequat. <span>Duis aute irure dolor</span> in reprehenderit in voluptate velit esse cillum dolore eu\n",
       "    fugiat nulla pariatur. <em>Excepteur sint occaecat cupidatat non proident, sunt in culpa qui officia deserunt mollit\n",
       "      anim id est laborum</em>.</p>\n",
       "<p>Lorem ipsum dolor sit amet, consectetur adipisicing elit, sed do eiusmod tempor incididunt ut labore et dolore\n",
       "    magna aliqua. Ut enim ad minim veniam, quis nostrud exercitation ullamco laboris nisi ut aliquip ex ea commodo\n",
       "    consequat. <strong><em>Duis aute irure dolor in reprehenderit in voluptate velit esse cillum dolore eu fugiat nulla\n",
       "        pariatur</em></strong>. Excepteur sint occaecat cupidatat non proident, sunt in culpa qui officia deserunt\n",
       "    mollit anim id est laborum.</p>\n",
       "<table id=\"directory\">\n",
       "<thead>\n",
       "<tr>\n",
       "<th>Name</th>\n",
       "<th>Role</th>\n",
       "</tr>\n",
       "</thead>\n",
       "<tbody>\n",
       "<tr class=\"student\">\n",
       "<th><a href=\"mailto:praveen@ga.co\">Praveen\n",
       "\n",
       "\n",
       "\n",
       "          </a></th>\n",
       "<td>Student</td>\n",
       "</tr>\n",
       "<tr class=\"student\">\n",
       "<th><a href=\"mailto:fred@ga.co\">Fred\n",
       "\n",
       "\n",
       "\n",
       "          </a></th>\n",
       "<td>Student</td>\n",
       "</tr>\n",
       "<tr class=\"student\">\n",
       "<th><a href=\"mailto:homer@ga.co\">Homer\n",
       "\n",
       "\n",
       "\n",
       "          </a></th>\n",
       "<td><span class=\"foobar\">Student</span></td>\n",
       "</tr>\n",
       "<tr class=\"student\">\n",
       "<th><a href=\"mailto:kyle@ga.co\">Kyle\n",
       "\n",
       "\n",
       "\n",
       "          </a></th>\n",
       "<td>Student</td>\n",
       "</tr>\n",
       "<tr class=\"student\">\n",
       "<th><a href=\"mailto:sam@ga.co\">Sam\n",
       "\n",
       "\n",
       "\n",
       "          </a></th>\n",
       "<td>Student</td>\n",
       "</tr>\n",
       "<tr class=\"student\">\n",
       "<th><a href=\"mailto:javier@ga.co\">Javier\n",
       "\n",
       "\n",
       "\n",
       "          </a></th>\n",
       "<td>Student</td>\n",
       "</tr>\n",
       "<tr class=\"student\">\n",
       "<th><a href=\"mailto:nengkuan@ga.co\">Nengkuan\n",
       "\n",
       "\n",
       "\n",
       "          </a></th>\n",
       "<td>Student</td>\n",
       "</tr>\n",
       "<tr class=\"student\">\n",
       "<th><a href=\"mailto:kieth@ga.co\">Kieth\n",
       "\n",
       "\n",
       "\n",
       "          </a></th>\n",
       "<td>Student</td>\n",
       "</tr>\n",
       "<tr class=\"student\">\n",
       "<th><a href=\"mailto:bola@ga.co\">Bola\n",
       "\n",
       "\n",
       "\n",
       "          </a></th>\n",
       "<td>Student</td>\n",
       "</tr>\n",
       "<tr class=\"student\">\n",
       "<th><a href=\"mailto:steve@ga.co\">Steve\n",
       "\n",
       "\n",
       "\n",
       "          </a></th>\n",
       "<td>Student</td>\n",
       "</tr>\n",
       "<tr class=\"student\">\n",
       "<th><a href=\"mailto:nichole@ga.co\">Nichole\n",
       "\n",
       "\n",
       "\n",
       "          </a></th>\n",
       "<td>Instructor</td>\n",
       "</tr>\n",
       "<tr class=\"student\">\n",
       "<th><a href=\"mailto:riley@ga.co\">Riley\n",
       "\n",
       "\n",
       "\n",
       "          </a></th>\n",
       "<td>Instructor</td>\n",
       "</tr>\n",
       "</tbody>\n",
       "</table>\n",
       "<footer>\n",
       "<p>Copyright 2017. All rights reserved</p>\n",
       "<ul>\n",
       "<li><a href=\"#\">Home</a></li>\n",
       "<li><a href=\"#\">About</a></li>\n",
       "<li><a href=\"#\">Contact</a></li>\n",
       "</ul>\n",
       "</footer>\n",
       "</body>\n",
       "</html>"
      ]
     },
     "execution_count": 3,
     "metadata": {},
     "output_type": "execute_result"
    }
   ],
   "source": [
    "soup.extract()"
   ]
  },
  {
   "cell_type": "code",
   "execution_count": 5,
   "metadata": {},
   "outputs": [
    {
     "name": "stdout",
     "output_type": "stream",
     "text": [
      "<title>The title</title>\n"
     ]
    }
   ],
   "source": [
    "print(soup.title)"
   ]
  },
  {
   "cell_type": "code",
   "execution_count": 6,
   "metadata": {},
   "outputs": [
    {
     "name": "stdout",
     "output_type": "stream",
     "text": [
      "The title\n"
     ]
    }
   ],
   "source": [
    "print(soup.title.text)"
   ]
  },
  {
   "cell_type": "code",
   "execution_count": 7,
   "metadata": {},
   "outputs": [
    {
     "name": "stdout",
     "output_type": "stream",
     "text": [
      "<ol class=\"todo\">\n",
      "<li class=\"foobar\">Take out trash</li>\n",
      "<li>Pay billz</li>\n",
      "<li class=\"foobar\">Feed dog</li>\n",
      "</ol>\n"
     ]
    }
   ],
   "source": [
    "olist = soup.find('ol') #returns first occurence of an element\n",
    "print(olist)"
   ]
  },
  {
   "cell_type": "code",
   "execution_count": 9,
   "metadata": {},
   "outputs": [
    {
     "name": "stdout",
     "output_type": "stream",
     "text": [
      "Take out trash\n",
      "Pay billz\n",
      "Feed dog\n"
     ]
    }
   ],
   "source": [
    "for item in olist.find_all('li'):\n",
    "    print(item.text)"
   ]
  },
  {
   "cell_type": "code",
   "execution_count": 10,
   "metadata": {},
   "outputs": [
    {
     "data": {
      "text/plain": [
       "'mailto:praveen@ga.co'"
      ]
     },
     "execution_count": 10,
     "metadata": {},
     "output_type": "execute_result"
    }
   ],
   "source": [
    "soup.find_all('a')[0]['href']"
   ]
  },
  {
   "cell_type": "code",
   "execution_count": 11,
   "metadata": {},
   "outputs": [],
   "source": [
    "div_results = soup.body.find_all('div', {'class':'divvy-it-up'})"
   ]
  },
  {
   "cell_type": "code",
   "execution_count": 12,
   "metadata": {},
   "outputs": [
    {
     "data": {
      "text/plain": [
       "[]"
      ]
     },
     "execution_count": 12,
     "metadata": {},
     "output_type": "execute_result"
    }
   ],
   "source": [
    "div_results"
   ]
  },
  {
   "cell_type": "code",
   "execution_count": 15,
   "metadata": {},
   "outputs": [
    {
     "name": "stdout",
     "output_type": "stream",
     "text": [
      "mailto:praveen@ga.co\n",
      "mailto:fred@ga.co\n",
      "mailto:homer@ga.co\n",
      "mailto:kyle@ga.co\n",
      "mailto:sam@ga.co\n",
      "mailto:javier@ga.co\n",
      "mailto:nengkuan@ga.co\n",
      "mailto:kieth@ga.co\n",
      "mailto:bola@ga.co\n",
      "mailto:steve@ga.co\n",
      "mailto:nichole@ga.co\n",
      "mailto:riley@ga.co\n"
     ]
    }
   ],
   "source": [
    "#print the emails of all the students\n",
    "#for item in soup.find_all('a'):\n",
    "#    print(item['href'])\n",
    "email_table = soup.find('table', {'id': 'directory'})\n",
    "email_table\n",
    "for item in email_table.find_all('a'):\n",
    "    print(item['href'])\n"
   ]
  }
 ],
 "metadata": {
  "interpreter": {
   "hash": "31f2aee4e71d21fbe5cf8b01ff0e069b9275f58929596ceb00d14d90e3e16cd6"
  },
  "kernelspec": {
   "display_name": "Python 3.8.9 64-bit",
   "language": "python",
   "name": "python3"
  },
  "language_info": {
   "codemirror_mode": {
    "name": "ipython",
    "version": 3
   },
   "file_extension": ".py",
   "mimetype": "text/x-python",
   "name": "python",
   "nbconvert_exporter": "python",
   "pygments_lexer": "ipython3",
   "version": "3.8.9"
  },
  "orig_nbformat": 4
 },
 "nbformat": 4,
 "nbformat_minor": 2
}
